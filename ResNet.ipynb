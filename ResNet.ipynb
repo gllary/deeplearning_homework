{
 "cells": [
  {
   "cell_type": "code",
   "execution_count": 1,
   "metadata": {},
   "outputs": [
    {
     "name": "stderr",
     "output_type": "stream",
     "text": [
      "D:\\anaconda3\\lib\\site-packages\\tensorflow\\python\\framework\\dtypes.py:523: FutureWarning: Passing (type, 1) or '1type' as a synonym of type is deprecated; in a future version of numpy, it will be understood as (type, (1,)) / '(1,)type'.\n",
      "  _np_qint8 = np.dtype([(\"qint8\", np.int8, 1)])\n",
      "D:\\anaconda3\\lib\\site-packages\\tensorflow\\python\\framework\\dtypes.py:524: FutureWarning: Passing (type, 1) or '1type' as a synonym of type is deprecated; in a future version of numpy, it will be understood as (type, (1,)) / '(1,)type'.\n",
      "  _np_quint8 = np.dtype([(\"quint8\", np.uint8, 1)])\n",
      "D:\\anaconda3\\lib\\site-packages\\tensorflow\\python\\framework\\dtypes.py:525: FutureWarning: Passing (type, 1) or '1type' as a synonym of type is deprecated; in a future version of numpy, it will be understood as (type, (1,)) / '(1,)type'.\n",
      "  _np_qint16 = np.dtype([(\"qint16\", np.int16, 1)])\n",
      "D:\\anaconda3\\lib\\site-packages\\tensorflow\\python\\framework\\dtypes.py:526: FutureWarning: Passing (type, 1) or '1type' as a synonym of type is deprecated; in a future version of numpy, it will be understood as (type, (1,)) / '(1,)type'.\n",
      "  _np_quint16 = np.dtype([(\"quint16\", np.uint16, 1)])\n",
      "D:\\anaconda3\\lib\\site-packages\\tensorflow\\python\\framework\\dtypes.py:527: FutureWarning: Passing (type, 1) or '1type' as a synonym of type is deprecated; in a future version of numpy, it will be understood as (type, (1,)) / '(1,)type'.\n",
      "  _np_qint32 = np.dtype([(\"qint32\", np.int32, 1)])\n",
      "D:\\anaconda3\\lib\\site-packages\\tensorflow\\python\\framework\\dtypes.py:532: FutureWarning: Passing (type, 1) or '1type' as a synonym of type is deprecated; in a future version of numpy, it will be understood as (type, (1,)) / '(1,)type'.\n",
      "  np_resource = np.dtype([(\"resource\", np.ubyte, 1)])\n",
      "D:\\anaconda3\\lib\\site-packages\\h5py\\__init__.py:34: FutureWarning: Conversion of the second argument of issubdtype from `float` to `np.floating` is deprecated. In future, it will be treated as `np.float64 == np.dtype(float).type`.\n",
      "  from ._conv import register_converters as _register_converters\n"
     ]
    },
    {
     "data": {
      "text/plain": [
       "'1.10.0'"
      ]
     },
     "execution_count": 1,
     "metadata": {},
     "output_type": "execute_result"
    }
   ],
   "source": [
    "import tensorflow as tf\n",
    "import os\n",
    "import pickle\n",
    "import numpy as np\n",
    "tf.__version__"
   ]
  },
  {
   "cell_type": "code",
   "execution_count": 2,
   "metadata": {},
   "outputs": [
    {
     "name": "stdout",
     "output_type": "stream",
     "text": [
      "['batches.meta', 'data_batch_1', 'data_batch_2', 'data_batch_3', 'data_batch_4', 'data_batch_5', 'readme.html', 'test_batch']\n"
     ]
    }
   ],
   "source": [
    "CIFAR_DIR = 'E:/jupyter/cifar-10-batches-py'\n",
    "print(os.listdir(CIFAR_DIR))"
   ]
  },
  {
   "cell_type": "code",
   "execution_count": 3,
   "metadata": {},
   "outputs": [
    {
     "name": "stdout",
     "output_type": "stream",
     "text": [
      "(50000, 3072)\n",
      "(50000,)\n",
      "(10000, 3072)\n",
      "(10000,)\n"
     ]
    }
   ],
   "source": [
    "def load_data(filename):\n",
    "    #read data form data file\n",
    "    with open(filename,'rb') as f:\n",
    "        data = pickle.load(f,encoding='bytes')\n",
    "#         print(type(data))\n",
    "#         print(data.keys())\n",
    "        \n",
    "#         print(type(data[b'labels']))\n",
    "        return data[b'data'],data[b'labels']\n",
    "\n",
    "#tesorflow.Dataset\n",
    "class CifarData:\n",
    "    def __init__(self,filenames,need_shuffle):\n",
    "        all_data = []\n",
    "        all_labels = []\n",
    "        for filename in filenames:\n",
    "            data,labels = load_data(filename)\n",
    "            all_data.append(data)\n",
    "            all_labels.append(labels)\n",
    "        self._data = np.vstack(all_data)\n",
    "        self._data = self._data/127.5 - 1  #归一化\n",
    "        self._labels = np.hstack(all_labels)\n",
    "        print(self._data.shape)\n",
    "        print(self._labels.shape)\n",
    "        \n",
    "        self._num_examples = self._data.shape[0]\n",
    "        self._need_shuffle = need_shuffle\n",
    "        self._indicator = 0\n",
    "        if self._need_shuffle:\n",
    "            self._shuffle_data()\n",
    "    def _shuffle_data(self):\n",
    "        p = np.random.permutation(self._num_examples) #直接调用numoy的混排函数\n",
    "        self._data = self._data[p]\n",
    "        self._labels = self._labels[p]\n",
    "    def next_batch(self,batch_size):\n",
    "        #return batch_size examples as a batch\n",
    "        end_indicator = self._indicator + batch_size\n",
    "        if end_indicator > self._num_examples:\n",
    "            if self._need_shuffle:\n",
    "                self._shuffle_data()\n",
    "                self._indicator = 0\n",
    "                end_indicator = batch_size\n",
    "            else:\n",
    "                raise Exception(\"have no more examples\")\n",
    "        if end_indicator>self._num_examples:\n",
    "            raise Exception(\"batch size is larger than all examples\")\n",
    "        batch_data= self._data[self._indicator:end_indicator]\n",
    "        batch_labels = self._labels[self._indicator:end_indicator]\n",
    "        self._indicator = end_indicator\n",
    "        return batch_data,batch_labels\n",
    "\n",
    "train_filenames = [os.path.join(CIFAR_DIR,'data_batch_%d'%i) for i in range(1,6)]  \n",
    "test_filenames = [os.path.join(CIFAR_DIR,'test_batch')]\n",
    "\n",
    "train_data = CifarData(train_filenames,True)\n",
    "test_data = CifarData(test_filenames,False)"
   ]
  },
  {
   "cell_type": "code",
   "execution_count": 4,
   "metadata": {},
   "outputs": [],
   "source": [
    "def residual_block(x,output_channel):\n",
    "    input_channel = x.get_shape().as_list()[-1]\n",
    "    if input_channel*2 == output_channel:\n",
    "        increase_dim = True\n",
    "        strides = (2,2)\n",
    "    elif input_channel == output_channel:\n",
    "        increase_dim = False\n",
    "        strides = (1,1)\n",
    "    else:\n",
    "        raise Exception(\"input channel can't match output channel\")\n",
    "    conv1 = tf.layers.conv2d(x,\n",
    "                            output_channel,\n",
    "                            (3,3),\n",
    "                            strides = strides,\n",
    "                            padding = 'same',\n",
    "                            activation = tf.nn.relu,\n",
    "                            name = 'conv1')\n",
    "    conv2 = tf.layers.conv2d(conv1,\n",
    "                            output_channel,\n",
    "                            (3,3),\n",
    "                            strides = (1,1),\n",
    "                            padding = 'same',\n",
    "                            activation = tf.nn.relu,\n",
    "                            name = 'conv2')\n",
    "    if increase_dim:  #如果卷积的时候做了降采样，通道数会增加，所以恒等变化的x也应该降采样增加通道数\n",
    "        #[None,image_width,image_hight,channel]\n",
    "        pooled_x = tf.layers.average_pooling2d(x,\n",
    "                                              (2,2),#kerner size\n",
    "                                              (2,2),#strides   让图像变成原来的一半，但是并不改变通道数\n",
    "                                              padding = 'valid')\n",
    "        #补全缺失的通道数,保证padded_x和conv2大小相同\n",
    "        padded_x = tf.pad(pooled_x,\n",
    "                         [[0,0],\n",
    "                         [0,0],\n",
    "                         [0,0],\n",
    "                         [input_channel//2,input_channel//2]])\n",
    "    else:\n",
    "        padded_x = x\n",
    "    output_x = conv2 + padded_x\n",
    "    return output_x\n",
    "\n",
    "def res_net(x,num_residual_blocks,num_filter_base,class_num):\n",
    "    #num_residual_blocks ，例如[3,4,6,3]即某个残差块的个数\n",
    "    #num_subsampling = 4\n",
    "    num_subsampling = len(num_residual_blocks)\n",
    "    layers = []\n",
    "    input_size = x.get_shape().as_list()[1:]\n",
    "    with tf.variable_scope('conv0'):\n",
    "        conv0 = tf.layers.conv2d(x,\n",
    "                                num_filter_base,\n",
    "                                (3,3),\n",
    "                                strides = (1,1),\n",
    "                                padding = 'same',\n",
    "                                activation = tf.nn.relu,\n",
    "                                name = 'conv0')\n",
    "        layers.append(conv0)\n",
    "    for sample_id in range(num_subsampling):\n",
    "        for i in range(num_residual_blocks[sample_id]):\n",
    "            with tf.variable_scope(\"conv%d_%d\"%(sample_id,i)):\n",
    "                conv = residual_block(\n",
    "                layers[-1],\n",
    "                num_filter_base*(2**sample_id))\n",
    "                layers.append(conv)\n",
    "    multiplier = 2**(num_subsampling-1)\n",
    "    assert layers[-1].get_shape().as_list()[1:] == [input_size[0]/multiplier,input_size[1]/multiplier,num_filter_base*multiplier]\n",
    "    with tf.variable_scope('fc'):\n",
    "        #layer[-1].shape:[None,width,height,channel]\n",
    "        # kernel_size:image_width,image_height\n",
    "        global_pool = tf.reduce_mean(layers[-1],[1,2])\n",
    "        logits = tf.layers.dense(global_pool,class_num)\n",
    "        layers.append(logits)\n",
    "    return layers[-1]\n",
    "        \n",
    "    \n",
    "\n",
    "x = tf.placeholder(tf.float32,[None,3072])\n",
    "y = tf.placeholder(tf.int64,[None])\n",
    "\n",
    "x_image = tf.reshape(x,[-1,3,32,32])\n",
    "x_image = tf.transpose(x_image,perm=[0,2,3,1])\n",
    "\n",
    "\n",
    "\n",
    "\n",
    "y_ = res_net(x_image,[2,3,2],32,10)  #调用残差\n",
    "\n",
    "#调用api去做交叉熵损失\n",
    "loss = tf.losses.sparse_softmax_cross_entropy(labels=y,logits=y_)\n",
    "#y_ ->softmax\n",
    "#y -> one-hot\n",
    "#loss = ylogy_\n",
    "\n",
    "#index\n",
    "predict = tf.argmax(y_,1)\n",
    "correct_prediction = tf.equal(predict,y)\n",
    "acc = tf.reduce_mean(tf.cast(correct_prediction,tf.float64))\n",
    "\n",
    "with tf.name_scope('train_op'):\n",
    "    train_op = tf.train.AdadeltaOptimizer(1e-3).minimize(loss)\n"
   ]
  },
  {
   "cell_type": "code",
   "execution_count": 5,
   "metadata": {},
   "outputs": [
    {
     "name": "stdout",
     "output_type": "stream",
     "text": [
      "[Train] Steps: 0, loss: 2.26080, acc: 0.30000\n",
      "[Train] Steps: 500, loss: 2.31767, acc: 0.15000\n"
     ]
    }
   ],
   "source": [
    "init = tf.global_variables_initializer()\n",
    "batch_size = 20\n",
    "train_steps = 1000\n",
    "\n",
    "test_steps = 100\n",
    "with tf.Session() as sess:\n",
    "    sess.run(init)\n",
    "    for i in range(train_steps):\n",
    "        batch_data,batch_labels = train_data.next_batch(batch_size)\n",
    "        loss_val,acc_val,_ = sess.run(\n",
    "            [loss,acc,train_op],\n",
    "            feed_dict={\n",
    "                x: batch_data,\n",
    "                y: batch_labels\n",
    "            }\n",
    "        )\n",
    "        if i%500 ==0:\n",
    "            print('[Train] Steps: %d, loss: %4.5f, acc: %4.5f'%(i,loss_val,acc_val))\n",
    "        \n",
    "        if (i+1)%5000 == 0:\n",
    "            test_data = CifarData(test_filenames,False)\n",
    "            for j in range(test_steps):\n",
    "                test_batch_data,test_batch_labels = test_data.next_batch(batch_size)\n",
    "                all_test_acc_val = []\n",
    "                test_acc_val = sess.run(\n",
    "                    [acc],\n",
    "                    feed_dict = {\n",
    "                        x: test_batch_data,\n",
    "                        y: test_batch_labels\n",
    "                    }\n",
    "                )\n",
    "                all_test_acc_val.append(test_acc_val)\n",
    "            test_acc = np.mean(all_test_acc_val)\n",
    "            print('[Test] Step: %d, acc: %4.5f' % (i+1,test_acc))\n",
    "        "
   ]
  },
  {
   "cell_type": "code",
   "execution_count": null,
   "metadata": {
    "collapsed": true
   },
   "outputs": [],
   "source": []
  }
 ],
 "metadata": {
  "kernelspec": {
   "display_name": "Python [conda env:anaconda3]",
   "language": "python",
   "name": "conda-env-anaconda3-py"
  },
  "language_info": {
   "codemirror_mode": {
    "name": "ipython",
    "version": 3
   },
   "file_extension": ".py",
   "mimetype": "text/x-python",
   "name": "python",
   "nbconvert_exporter": "python",
   "pygments_lexer": "ipython3",
   "version": "3.5.3"
  }
 },
 "nbformat": 4,
 "nbformat_minor": 2
}
